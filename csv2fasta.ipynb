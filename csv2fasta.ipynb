{
 "cells": [
  {
   "cell_type": "code",
   "execution_count": 5,
   "metadata": {},
   "outputs": [],
   "source": [
    "import glob\n",
    "import pandas as pd\n",
    "import re\n",
    "import pyarrow.parquet as pq\n",
    "import zstandard\n",
    "\n",
    "from sklearn.model_selection import train_test_split"
   ]
  },
  {
   "cell_type": "markdown",
   "metadata": {},
   "source": [
    "## csvsディレクトリ直下のcsvファイルを8:2に分割してfasta形式の検証データに整形"
   ]
  },
  {
   "cell_type": "code",
   "execution_count": 29,
   "metadata": {},
   "outputs": [
    {
     "data": {
      "text/plain": [
       "['tRNA',\n",
       " 'SpF59_sRNA',\n",
       " 'tmRNA',\n",
       " 'Dicty_Class_I_RNA',\n",
       " 'IRES_Picorna',\n",
       " '5_8S_rRNA',\n",
       " 'Y_RNA',\n",
       " '5S_rRNA',\n",
       " 'alpha_tmRNA']"
      ]
     },
     "execution_count": 29,
     "metadata": {},
     "output_type": "execute_result"
    }
   ],
   "source": [
    "families = list(map(lambda file_name:  file_name.replace('./Data/csvs/', '').replace('.csv', ''), glob.glob(\"./Data/csvs/*\")))\n",
    "families"
   ]
  },
  {
   "cell_type": "code",
   "execution_count": 39,
   "metadata": {},
   "outputs": [],
   "source": [
    "for family in families:\n",
    "    df = pd.read_csv(f'./Data/csvs/{family}.csv', encoding = 'UTF-8')\n",
    "    df['SerialNum'] = '>' + df['id'].astype(str)\n",
    "    df = df.loc[:,['SerialNum','sequence']]\n",
    "    df_train, df_test = train_test_split(df, test_size=0.2, random_state=0)\n",
    "    df_train.to_csv(f'./Data/fastas/{family}_train.fasta', sep = '\\n', index = None,  header = None)\n",
    "    df_test.to_csv(f'./Data/fastas/{family}_test.fasta', sep = '\\n', index = None,  header = None)"
   ]
  },
  {
   "cell_type": "markdown",
   "metadata": {},
   "source": [
    "## RT988_demoをテストデータに変換"
   ]
  },
  {
   "cell_type": "code",
   "execution_count": 3,
   "metadata": {},
   "outputs": [],
   "source": [
    "df = pd.read_csv('./Data/csvs/RT988_demo.csv', encoding = 'UTF-8')\n",
    "df = df.sample(n=1250, random_state=0)\n",
    "df['SerialNum'] = '>' + df['id'].astype(str)\n",
    "df = df.loc[:,['SerialNum','sequence']]\n",
    "df_train, df_test = train_test_split(df, test_size=0.2, random_state=0)\n",
    "df_train.to_csv('./Data/fastas/RT988_demo_train.fasta', sep = '\\n', index = None,  header = None)\n",
    "df_test.to_csv('./Data/fastas/RT988_demo_test.fasta', sep = '\\n', index = None,  header = None)"
   ]
  },
  {
   "cell_type": "code",
   "execution_count": 16,
   "metadata": {},
   "outputs": [],
   "source": [
    "files = [\n",
    "    'Rfam_100_200',\n",
    "    'Rfam_100',\n",
    "    'Rfam_200_300',\n",
    "    'Rfam_300_400',\n",
    "    'Rfam_400_1600',\n",
    "]\n",
    "\n",
    "for file in files:\n",
    "    df = pd.read_csv(f'./Data/csvs/{file}.csv', encoding = 'UTF-8')\n",
    "    # df = df.sample(n=1250, random_state=0)\n",
    "    df['SerialNum'] = '>' + df['id'].astype(str)\n",
    "    df = df.loc[:,['SerialNum','sequence']]\n",
    "    df_train, df_test = train_test_split(df, test_size=0.2, random_state=0)\n",
    "    df_train.to_csv(f'./Data/fastas/{file}_train.fasta', sep = '\\n', index = None,  header = None)\n",
    "    df_test.to_csv(f'./Data/fastas/{file}_test.fasta', sep = '\\n', index = None,  header = None)"
   ]
  },
  {
   "cell_type": "markdown",
   "metadata": {},
   "source": [
    "# rfam全体のデータセット"
   ]
  },
  {
   "cell_type": "markdown",
   "metadata": {},
   "source": [
    "## csvをparquet形式に圧縮"
   ]
  },
  {
   "cell_type": "code",
   "execution_count": 6,
   "metadata": {},
   "outputs": [],
   "source": [
    "input_path = './Data/csvs/rfam.csv'\n",
    "output_path = input_path.replace('.csv', '.zstd')\n",
    "\n",
    "df = pd.read_csv(input_path, encoding='UTF-8')\n",
    "df.to_parquet(output_path, compression='zstd')"
   ]
  },
  {
   "cell_type": "markdown",
   "metadata": {},
   "source": [
    "## rfam全体を８：2 にtrain-test split"
   ]
  },
  {
   "cell_type": "code",
   "execution_count": 7,
   "metadata": {},
   "outputs": [],
   "source": [
    "df = pq.read_table('./Data/csvs/rfam.zstd').to_pandas()\n",
    "df['SerialNum'] = '>' + df['id'].astype(str)\n",
    "df = df.loc[:,['SerialNum','sequence']]\n",
    "df_train, df_test = train_test_split(df, test_size=0.2, random_state=0)\n",
    "df_train.to_csv('./Data/fastas/rfam_train.fasta', sep = '\\n', index = None,  header = None)\n",
    "df_test.to_csv('./Data/fastas/rfam_test.fasta', sep = '\\n', index = None,  header = None)"
   ]
  }
 ],
 "metadata": {
  "kernelspec": {
   "display_name": "Python 3.8.13 ('AsMac')",
   "language": "python",
   "name": "python3"
  },
  "language_info": {
   "codemirror_mode": {
    "name": "ipython",
    "version": 3
   },
   "file_extension": ".py",
   "mimetype": "text/x-python",
   "name": "python",
   "nbconvert_exporter": "python",
   "pygments_lexer": "ipython3",
   "version": "3.8.13"
  },
  "orig_nbformat": 4,
  "vscode": {
   "interpreter": {
    "hash": "758cea6daebe6d1f928917e5646a04102b49665b8c5597913124921a43b0dc28"
   }
  }
 },
 "nbformat": 4,
 "nbformat_minor": 2
}
